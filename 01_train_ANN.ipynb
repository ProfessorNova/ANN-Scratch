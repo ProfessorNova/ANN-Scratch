{
 "cells": [
  {
   "cell_type": "code",
   "execution_count": 6,
   "metadata": {},
   "outputs": [],
   "source": [
    "from ANN import *\n",
    "import wandb"
   ]
  },
  {
   "cell_type": "code",
   "execution_count": 7,
   "metadata": {},
   "outputs": [
    {
     "name": "stderr",
     "output_type": "stream",
     "text": [
      "14:41:58 [INFO] Loading mnist_train.csv\n",
      "14:42:00 [INFO] Loaded mnist_train.csv\n",
      "14:42:00 [INFO] Loading mnist_test.csv\n",
      "14:42:00 [INFO] Loaded mnist_test.csv\n"
     ]
    }
   ],
   "source": [
    "# load data\n",
    "train_data = load_data(config.train_data_path)\n",
    "test_data = load_data(config.test_data_path)"
   ]
  },
  {
   "cell_type": "code",
   "execution_count": 8,
   "metadata": {},
   "outputs": [],
   "source": [
    "config = SimpleNamespace(\n",
    "    run_name=\"more_complex_run\",\n",
    "    epochs=50,  # Number of epochs\n",
    "    batch_size=64,  # Batch size\n",
    "    learning_rate=0.2,  # Starting learning rate\n",
    "    lr_decay_rate=0.95,  # How much to decay the learning rate\n",
    "    lr_decay_frequency=4,  # Decay learning rate every 5 epochs\n",
    "    early_stop_patience=10,  # Early stopping patience\n",
    "    train_data_path=\"mnist_train.csv\",\n",
    "    test_data_path=\"mnist_test.csv\",\n",
    ")"
   ]
  },
  {
   "cell_type": "code",
   "execution_count": 9,
   "metadata": {},
   "outputs": [],
   "source": [
    "# create network\n",
    "network = NeuralNetwork()\n",
    "network.add_layer(NeuralLayer(784, \"input\", activation_function=None))\n",
    "network.add_layer(NeuralLayer(256, \"hidden\", activation_function=\"relu\", dropout_rate=0.2))\n",
    "network.add_layer(NeuralLayer(10, \"output\", activation_function=\"softmax\"))"
   ]
  },
  {
   "cell_type": "code",
   "execution_count": 10,
   "metadata": {},
   "outputs": [
    {
     "data": {
      "text/html": [
       "Tracking run with wandb version 0.16.0"
      ],
      "text/plain": [
       "<IPython.core.display.HTML object>"
      ]
     },
     "metadata": {},
     "output_type": "display_data"
    },
    {
     "data": {
      "text/html": [
       "Run data is saved locally in <code>c:\\Users\\Florian\\Documents\\GitHub\\ANN-Scratch\\wandb\\run-20231126_144200-ndvfgpkm</code>"
      ],
      "text/plain": [
       "<IPython.core.display.HTML object>"
      ]
     },
     "metadata": {},
     "output_type": "display_data"
    },
    {
     "data": {
      "text/html": [
       "Syncing run <strong><a href='https://wandb.ai/professornova/ANN_from_scratch/runs/ndvfgpkm' target=\"_blank\">amber-shadow-26</a></strong> to <a href='https://wandb.ai/professornova/ANN_from_scratch' target=\"_blank\">Weights & Biases</a> (<a href='https://wandb.me/run' target=\"_blank\">docs</a>)<br/>"
      ],
      "text/plain": [
       "<IPython.core.display.HTML object>"
      ]
     },
     "metadata": {},
     "output_type": "display_data"
    },
    {
     "data": {
      "text/html": [
       " View project at <a href='https://wandb.ai/professornova/ANN_from_scratch' target=\"_blank\">https://wandb.ai/professornova/ANN_from_scratch</a>"
      ],
      "text/plain": [
       "<IPython.core.display.HTML object>"
      ]
     },
     "metadata": {},
     "output_type": "display_data"
    },
    {
     "data": {
      "text/html": [
       " View run at <a href='https://wandb.ai/professornova/ANN_from_scratch/runs/ndvfgpkm' target=\"_blank\">https://wandb.ai/professornova/ANN_from_scratch/runs/ndvfgpkm</a>"
      ],
      "text/plain": [
       "<IPython.core.display.HTML object>"
      ]
     },
     "metadata": {},
     "output_type": "display_data"
    },
    {
     "name": "stderr",
     "output_type": "stream",
     "text": [
      "14:42:02 [INFO] Starting training\n"
     ]
    },
    {
     "data": {
      "text/html": [
       "\n",
       "<style>\n",
       "    /* Turns off some styling */\n",
       "    progress {\n",
       "        /* gets rid of default border in Firefox and Opera. */\n",
       "        border: none;\n",
       "        /* Needs to be in here for Safari polyfill so background images work as expected. */\n",
       "        background-size: auto;\n",
       "    }\n",
       "    progress:not([value]), progress:not([value])::-webkit-progress-bar {\n",
       "        background: repeating-linear-gradient(45deg, #7e7e7e, #7e7e7e 10px, #5c5c5c 10px, #5c5c5c 20px);\n",
       "    }\n",
       "    .progress-bar-interrupted, .progress-bar-interrupted::-webkit-progress-bar {\n",
       "        background: #F44336;\n",
       "    }\n",
       "</style>\n"
      ],
      "text/plain": [
       "<IPython.core.display.HTML object>"
      ]
     },
     "metadata": {},
     "output_type": "display_data"
    },
    {
     "data": {
      "text/html": [
       "Epoch 1 - Training Loss: 13.9082, Validation Loss: 7.2051, Accuracy: 57.66%<p>Epoch 2 - Training Loss: 7.7093, Validation Loss: 4.3886, Accuracy: 70.87%<p>Epoch 3 - Training Loss: 5.9770, Validation Loss: 3.9783, Accuracy: 74.13%<p>Epoch 4 - Training Loss: 5.0682, Validation Loss: 3.2027, Accuracy: 77.50%<p>Epoch 5 - Training Loss: 4.4746, Validation Loss: 3.1358, Accuracy: 78.45%<p>Epoch 6 - Training Loss: 4.0676, Validation Loss: 2.7886, Accuracy: 80.38%<p>Epoch 7 - Training Loss: 3.9352, Validation Loss: 2.6004, Accuracy: 81.32%<p>Epoch 8 - Training Loss: 3.5689, Validation Loss: 2.2798, Accuracy: 83.35%<p>Epoch 9 - Training Loss: 3.4892, Validation Loss: 2.1330, Accuracy: 84.18%<p>Epoch 10 - Training Loss: 3.2206, Validation Loss: 2.3358, Accuracy: 82.77%<p>Epoch 11 - Training Loss: 3.1435, Validation Loss: 1.9152, Accuracy: 85.21%<p>Epoch 12 - Training Loss: 3.0094, Validation Loss: 1.8765, Accuracy: 85.24%<p>Epoch 13 - Training Loss: 2.9154, Validation Loss: 2.0285, Accuracy: 84.52%<p>Epoch 14 - Training Loss: 2.7696, Validation Loss: 1.9465, Accuracy: 85.00%<p>Epoch 15 - Training Loss: 2.6506, Validation Loss: 2.1330, Accuracy: 83.74%<p>Epoch 16 - Training Loss: 2.6559, Validation Loss: 1.8379, Accuracy: 85.13%<p>Epoch 17 - Training Loss: 2.5670, Validation Loss: 1.8056, Accuracy: 85.29%<p>Epoch 18 - Training Loss: 2.4038, Validation Loss: 1.6574, Accuracy: 86.33%<p>Epoch 19 - Training Loss: 2.3888, Validation Loss: 1.6637, Accuracy: 86.32%<p>Epoch 20 - Training Loss: 2.3666, Validation Loss: 1.5870, Accuracy: 86.37%<p>Epoch 21 - Training Loss: 2.3051, Validation Loss: 1.5341, Accuracy: 86.77%<p>Epoch 22 - Training Loss: 2.2537, Validation Loss: 1.7119, Accuracy: 85.37%<p>Epoch 23 - Training Loss: 2.2671, Validation Loss: 1.7755, Accuracy: 84.29%<p>Epoch 24 - Training Loss: 2.2172, Validation Loss: 1.5642, Accuracy: 86.27%<p>Epoch 25 - Training Loss: 2.1613, Validation Loss: 1.4519, Accuracy: 87.25%<p>Epoch 26 - Training Loss: 2.1619, Validation Loss: 1.5147, Accuracy: 86.56%<p>Epoch 27 - Training Loss: 2.0610, Validation Loss: 1.6273, Accuracy: 85.78%<p>Epoch 28 - Training Loss: 2.0826, Validation Loss: 1.4040, Accuracy: 87.61%<p>Epoch 29 - Training Loss: 2.0272, Validation Loss: 1.3757, Accuracy: 87.92%<p>Epoch 30 - Training Loss: 1.9713, Validation Loss: 1.6308, Accuracy: 84.99%<p>Epoch 31 - Training Loss: 1.9633, Validation Loss: 1.3400, Accuracy: 87.37%<p>Epoch 32 - Training Loss: 1.8846, Validation Loss: 1.3936, Accuracy: 87.44%<p>Epoch 33 - Training Loss: 1.8601, Validation Loss: 1.2756, Accuracy: 88.03%<p>Epoch 34 - Training Loss: 1.8559, Validation Loss: 1.5079, Accuracy: 86.24%<p>Epoch 35 - Training Loss: 1.8455, Validation Loss: 1.2265, Accuracy: 88.74%<p>Epoch 36 - Training Loss: 1.7887, Validation Loss: 1.3034, Accuracy: 87.92%<p>Epoch 37 - Training Loss: 1.7707, Validation Loss: 1.3527, Accuracy: 86.67%<p>Epoch 38 - Training Loss: 1.7807, Validation Loss: 1.2814, Accuracy: 88.26%<p>Epoch 39 - Training Loss: 1.7609, Validation Loss: 1.2659, Accuracy: 88.22%<p>Epoch 40 - Training Loss: 1.7440, Validation Loss: 1.2563, Accuracy: 87.85%<p>Epoch 41 - Training Loss: 1.7221, Validation Loss: 1.3859, Accuracy: 87.02%<p>Epoch 42 - Training Loss: 1.6701, Validation Loss: 1.7220, Accuracy: 84.10%<p>Epoch 43 - Training Loss: 1.6888, Validation Loss: 1.1326, Accuracy: 88.77%<p>Epoch 44 - Training Loss: 1.6557, Validation Loss: 1.2085, Accuracy: 88.00%<p>Epoch 45 - Training Loss: 1.6241, Validation Loss: 1.2529, Accuracy: 86.94%<p>Epoch 46 - Training Loss: 1.6805, Validation Loss: 1.0517, Accuracy: 89.35%<p>Epoch 47 - Training Loss: 1.6696, Validation Loss: 1.1850, Accuracy: 87.59%<p>Epoch 48 - Training Loss: 1.6018, Validation Loss: 1.2754, Accuracy: 87.13%<p>Epoch 49 - Training Loss: 1.5341, Validation Loss: 1.0269, Accuracy: 89.38%<p>Epoch 50 - Training Loss: 1.5239, Validation Loss: 0.9850, Accuracy: 89.76%"
      ],
      "text/plain": [
       "<IPython.core.display.HTML object>"
      ]
     },
     "metadata": {},
     "output_type": "display_data"
    },
    {
     "data": {
      "image/png": "[encoded data removed]",
      "text/plain": [
       "<Figure size 600x400 with 1 Axes>"
      ]
     },
     "metadata": {},
     "output_type": "display_data"
    },
    {
     "name": "stderr",
     "output_type": "stream",
     "text": [
      "16:20:08 [INFO] Saved network to mnist_network.npy\n",
      "\u001b[34m\u001b[1mwandb\u001b[0m: \u001b[33mWARNING\u001b[0m Serializing object of type ndarray that is 1605760 bytes\n"
     ]
    },
    {
     "data": {
      "text/html": [
       "<style>\n",
       "    table.wandb td:nth-child(1) { padding: 0 10px; text-align: left ; width: auto;} td:nth-child(2) {text-align: left ; width: 100%}\n",
       "    .wandb-row { display: flex; flex-direction: row; flex-wrap: wrap; justify-content: flex-start; width: 100% }\n",
       "    .wandb-col { display: flex; flex-direction: column; flex-basis: 100%; flex: 1; padding: 10px; }\n",
       "    </style>\n",
       "<div class=\"wandb-row\"><div class=\"wandb-col\"><h3>Run history:</h3><br/><table class=\"wandb\"><tr><td>accuracy</td><td>▁▄▅▅▆▆▇▇▇▇▇▇▇▇▇▇▇▇▇▇▇▇██▇▇█▇█▇██▇▇████▇█</td></tr><tr><td>epoch</td><td>▁▁▁▁▂▂▂▂▂▃▃▃▃▃▃▄▄▄▄▅▅▅▅▅▅▆▆▆▆▆▆▇▇▇▇▇████</td></tr><tr><td>learning_rate</td><td>█▇▇▆▅▅▄▃▃▂▂▁▁</td></tr><tr><td>training_loss</td><td>█▄▄▃▂▂▂▂▂▂▂▂▂▂▁▁▁▁▁▁▁▁▁▁▁▁▁▁▁▁▁▁▁▁▁▁▁▁▁▁</td></tr><tr><td>validation_loss</td><td>█▅▄▃▃▃▂▂▂▂▂▂▂▂▂▂▂▂▂▂▂▂▁▁▁▁▁▂▁▁▁▁▁▂▁▁▁▁▁▁</td></tr></table><br/></div><div class=\"wandb-col\"><h3>Run summary:</h3><br/><table class=\"wandb\"><tr><td>accuracy</td><td>0.8976</td></tr><tr><td>epoch</td><td>49</td></tr><tr><td>learning_rate</td><td>0.10267</td></tr><tr><td>training_loss</td><td>1.52391</td></tr><tr><td>validation_loss</td><td>0.98495</td></tr></table><br/></div></div>"
      ],
      "text/plain": [
       "<IPython.core.display.HTML object>"
      ]
     },
     "metadata": {},
     "output_type": "display_data"
    },
    {
     "data": {
      "text/html": [
       " View run <strong style=\"color:#cdcd00\">amber-shadow-26</strong> at: <a href='https://wandb.ai/professornova/ANN_from_scratch/runs/ndvfgpkm' target=\"_blank\">https://wandb.ai/professornova/ANN_from_scratch/runs/ndvfgpkm</a><br/>Synced 5 W&B file(s), 100 media file(s), 101 artifact file(s) and 0 other file(s)"
      ],
      "text/plain": [
       "<IPython.core.display.HTML object>"
      ]
     },
     "metadata": {},
     "output_type": "display_data"
    },
    {
     "data": {
      "text/html": [
       "Find logs at: <code>.\\wandb\\run-20231126_144200-ndvfgpkm\\logs</code>"
      ],
      "text/plain": [
       "<IPython.core.display.HTML object>"
      ]
     },
     "metadata": {},
     "output_type": "display_data"
    }
   ],
   "source": [
    "with wandb.init(project=\"ANN_from_scratch\", \n",
    "                group=\"train\",\n",
    "                config=config):\n",
    "    network.stochastic_gradient_descent(train_data=train_data,\n",
    "                                        test_data=test_data,\n",
    "                                        config=config)\n",
    "    network.save(\"mnist_network.npy\")"
   ]
  }
 ],
 "metadata": {
  "kernelspec": {
   "display_name": "Python 3",
   "language": "python",
   "name": "python3"
  },
  "language_info": {
   "codemirror_mode": {
    "name": "ipython",
    "version": 3
   },
   "file_extension": ".py",
   "mimetype": "text/x-python",
   "name": "python",
   "nbconvert_exporter": "python",
   "pygments_lexer": "ipython3",
   "version": "3.11.5"
  }
 },
 "nbformat": 4,
 "nbformat_minor": 2
}
