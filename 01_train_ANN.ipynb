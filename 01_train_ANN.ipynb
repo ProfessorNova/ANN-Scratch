{
 "cells": [
  {
   "cell_type": "code",
   "execution_count": 1,
   "metadata": {},
   "outputs": [],
   "source": [
    "from ANN import *\n",
    "import wandb"
   ]
  },
  {
   "cell_type": "code",
   "execution_count": 2,
   "metadata": {},
   "outputs": [
    {
     "name": "stderr",
     "output_type": "stream",
     "text": [
      "12:25:53 [INFO] Loading mnist_train.csv\n",
      "12:25:55 [INFO] Loaded mnist_train.csv\n",
      "12:25:55 [INFO] Loading mnist_test.csv\n",
      "12:25:56 [INFO] Loaded mnist_test.csv\n"
     ]
    }
   ],
   "source": [
    "# load data\n",
    "train_data = load_data(config.train_data_path)\n",
    "test_data = load_data(config.test_data_path)"
   ]
  },
  {
   "cell_type": "code",
   "execution_count": 3,
   "metadata": {},
   "outputs": [],
   "source": [
    "# create network\n",
    "network = NeuralNetwork()\n",
    "network.add_layer(NeuralLayer(784, \"input\", activation_function=None))\n",
    "network.add_layer(NeuralLayer(256, \"hidden\", activation_function=\"relu\"))\n",
    "network.add_layer(NeuralLayer(10, \"output\", activation_function=\"softmax\"))"
   ]
  },
  {
   "cell_type": "code",
   "execution_count": 4,
   "metadata": {},
   "outputs": [
    {
     "name": "stderr",
     "output_type": "stream",
     "text": [
      "12:25:56 [ERROR] Failed to detect the name of this notebook, you can set it manually with the WANDB_NOTEBOOK_NAME environment variable to enable code saving.\n"
     ]
    },
    {
     "name": "stderr",
     "output_type": "stream",
     "text": [
      "\u001b[34m\u001b[1mwandb\u001b[0m: Currently logged in as: \u001b[33mprofessornova\u001b[0m. Use \u001b[1m`wandb login --relogin`\u001b[0m to force relogin\n"
     ]
    },
    {
     "data": {
      "text/html": [
       "Tracking run with wandb version 0.16.0"
      ],
      "text/plain": [
       "<IPython.core.display.HTML object>"
      ]
     },
     "metadata": {},
     "output_type": "display_data"
    },
    {
     "data": {
      "text/html": [
       "Run data is saved locally in <code>c:\\Users\\Florian\\Documents\\GitHub\\ANN-Scratch\\wandb\\run-20231123_122557-jkwr7khv</code>"
      ],
      "text/plain": [
       "<IPython.core.display.HTML object>"
      ]
     },
     "metadata": {},
     "output_type": "display_data"
    },
    {
     "data": {
      "text/html": [
       "Syncing run <strong><a href='https://wandb.ai/professornova/ANN_from_scratch/runs/jkwr7khv' target=\"_blank\">celestial-lion-8</a></strong> to <a href='https://wandb.ai/professornova/ANN_from_scratch' target=\"_blank\">Weights & Biases</a> (<a href='https://wandb.me/run' target=\"_blank\">docs</a>)<br/>"
      ],
      "text/plain": [
       "<IPython.core.display.HTML object>"
      ]
     },
     "metadata": {},
     "output_type": "display_data"
    },
    {
     "data": {
      "text/html": [
       " View project at <a href='https://wandb.ai/professornova/ANN_from_scratch' target=\"_blank\">https://wandb.ai/professornova/ANN_from_scratch</a>"
      ],
      "text/plain": [
       "<IPython.core.display.HTML object>"
      ]
     },
     "metadata": {},
     "output_type": "display_data"
    },
    {
     "data": {
      "text/html": [
       " View run at <a href='https://wandb.ai/professornova/ANN_from_scratch/runs/jkwr7khv' target=\"_blank\">https://wandb.ai/professornova/ANN_from_scratch/runs/jkwr7khv</a>"
      ],
      "text/plain": [
       "<IPython.core.display.HTML object>"
      ]
     },
     "metadata": {},
     "output_type": "display_data"
    },
    {
     "name": "stderr",
     "output_type": "stream",
     "text": [
      "12:25:58 [INFO] Starting training\n"
     ]
    },
    {
     "data": {
      "text/html": [
       "\n",
       "<style>\n",
       "    /* Turns off some styling */\n",
       "    progress {\n",
       "        /* gets rid of default border in Firefox and Opera. */\n",
       "        border: none;\n",
       "        /* Needs to be in here for Safari polyfill so background images work as expected. */\n",
       "        background-size: auto;\n",
       "    }\n",
       "    progress:not([value]), progress:not([value])::-webkit-progress-bar {\n",
       "        background: repeating-linear-gradient(45deg, #7e7e7e, #7e7e7e 10px, #5c5c5c 10px, #5c5c5c 20px);\n",
       "    }\n",
       "    .progress-bar-interrupted, .progress-bar-interrupted::-webkit-progress-bar {\n",
       "        background: #F44336;\n",
       "    }\n",
       "</style>\n"
      ],
      "text/plain": [
       "<IPython.core.display.HTML object>"
      ]
     },
     "metadata": {},
     "output_type": "display_data"
    },
    {
     "data": {
      "text/html": [
       "Epoch 1 - Training Loss: 6.5134, Validation Loss: 3.3790, Accuracy: 76.44%<p>Epoch 2 - Training Loss: 3.1700, Validation Loss: 3.3814, Accuracy: 76.00%<p>Epoch 3 - Training Loss: 2.5611, Validation Loss: 2.2930, Accuracy: 83.04%<p>Epoch 4 - Training Loss: 2.3285, Validation Loss: 2.0984, Accuracy: 83.05%<p>Epoch 5 - Training Loss: 2.0867, Validation Loss: 1.9689, Accuracy: 84.65%<p>Epoch 6 - Training Loss: 2.0092, Validation Loss: 1.7445, Accuracy: 85.48%<p>Epoch 7 - Training Loss: 1.9150, Validation Loss: 1.7430, Accuracy: 85.86%<p>Epoch 8 - Training Loss: 1.7489, Validation Loss: 2.0857, Accuracy: 83.80%<p>Epoch 9 - Training Loss: 1.7366, Validation Loss: 1.7542, Accuracy: 85.37%<p>Epoch 10 - Training Loss: 1.7542, Validation Loss: 1.6121, Accuracy: 86.63%<p>Epoch 11 - Training Loss: 1.6934, Validation Loss: 1.4935, Accuracy: 87.40%<p>Epoch 12 - Training Loss: 1.5642, Validation Loss: 1.8849, Accuracy: 84.57%<p>Epoch 13 - Training Loss: 1.5375, Validation Loss: 1.2846, Accuracy: 88.71%<p>Epoch 14 - Training Loss: 1.5749, Validation Loss: 1.3460, Accuracy: 88.37%<p>Epoch 15 - Training Loss: 1.4619, Validation Loss: 1.4209, Accuracy: 87.37%<p>Epoch 16 - Training Loss: 1.4749, Validation Loss: 1.4162, Accuracy: 87.35%<p>Epoch 17 - Training Loss: 1.4725, Validation Loss: 1.4216, Accuracy: 87.53%<p>Epoch 18 - Training Loss: 1.4032, Validation Loss: 1.6484, Accuracy: 85.36%<p>Epoch 19 - Training Loss: 1.4456, Validation Loss: 1.3675, Accuracy: 87.61%<p>Epoch 20 - Training Loss: 1.3670, Validation Loss: 1.2460, Accuracy: 89.05%"
      ],
      "text/plain": [
       "<IPython.core.display.HTML object>"
      ]
     },
     "metadata": {},
     "output_type": "display_data"
    },
    {
     "data": {
      "image/png": "[encoded data removed]",
      "text/plain": [
       "<Figure size 600x400 with 1 Axes>"
      ]
     },
     "metadata": {},
     "output_type": "display_data"
    },
    {
     "name": "stderr",
     "output_type": "stream",
     "text": [
      "13:04:30 [INFO] Saved network to mnist_network2.npy\n",
      "\u001b[34m\u001b[1mwandb\u001b[0m: \u001b[33mWARNING\u001b[0m Serializing object of type ndarray that is 1605760 bytes\n"
     ]
    },
    {
     "data": {
      "text/html": [
       " View run <strong style=\"color:#cdcd00\">celestial-lion-8</strong> at: <a href='https://wandb.ai/professornova/ANN_from_scratch/runs/jkwr7khv' target=\"_blank\">https://wandb.ai/professornova/ANN_from_scratch/runs/jkwr7khv</a><br/>Synced 5 W&B file(s), 40 media file(s), 41 artifact file(s) and 0 other file(s)"
      ],
      "text/plain": [
       "<IPython.core.display.HTML object>"
      ]
     },
     "metadata": {},
     "output_type": "display_data"
    },
    {
     "data": {
      "text/html": [
       "Find logs at: <code>.\\wandb\\run-20231123_122557-jkwr7khv\\logs</code>"
      ],
      "text/plain": [
       "<IPython.core.display.HTML object>"
      ]
     },
     "metadata": {},
     "output_type": "display_data"
    }
   ],
   "source": [
    "with wandb.init(project=\"ANN_from_scratch\", \n",
    "                group=\"train\",\n",
    "                config=config):\n",
    "    network.stochastic_gradient_descent(train_data=train_data,\n",
    "                                        test_data=test_data,\n",
    "                                        epochs=config.epochs,\n",
    "                                        learning_rate=config.learning_rate,\n",
    "                                        batch_size=config.batch_size)\n",
    "    network.save(\"mnist_network2.npy\")"
   ]
  }
 ],
 "metadata": {
  "kernelspec": {
   "display_name": "Python 3",
   "language": "python",
   "name": "python3"
  },
  "language_info": {
   "codemirror_mode": {
    "name": "ipython",
    "version": 3
   },
   "file_extension": ".py",
   "mimetype": "text/x-python",
   "name": "python",
   "nbconvert_exporter": "python",
   "pygments_lexer": "ipython3",
   "version": "3.11.5"
  }
 },
 "nbformat": 4,
 "nbformat_minor": 2
}
