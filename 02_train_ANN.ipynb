{
 "cells": [
  {
   "cell_type": "code",
   "execution_count": 1,
   "metadata": {},
   "outputs": [],
   "source": [
    "from ANN import *\n",
    "import wandb"
   ]
  },
  {
   "cell_type": "code",
   "execution_count": 2,
   "metadata": {},
   "outputs": [
    {
     "name": "stderr",
     "output_type": "stream",
     "text": [
      "17:32:37 [INFO] Loading mnist_train.csv\n",
      "17:32:38 [INFO] Loaded mnist_train.csv\n",
      "17:32:38 [INFO] Loading mnist_test.csv\n",
      "17:32:39 [INFO] Loaded mnist_test.csv\n"
     ]
    }
   ],
   "source": [
    "# load data\n",
    "train_data = load_data(config.train_data_path)\n",
    "test_data = load_data(config.test_data_path)"
   ]
  },
  {
   "cell_type": "code",
   "execution_count": 3,
   "metadata": {},
   "outputs": [],
   "source": [
    "# create network\n",
    "network = NeuralNetwork()\n",
    "network.add_layer(NeuralLayer(784, \"input\", activation_function=None))\n",
    "network.add_layer(NeuralLayer(128, \"hidden\", activation_function=\"relu\"))  # Increased from 64 to 128 neurons\n",
    "network.add_layer(NeuralLayer(64, \"hidden\", activation_function=\"relu\"))   # Additional hidden layer\n",
    "network.add_layer(NeuralLayer(10, \"output\", activation_function=\"softmax\"))"
   ]
  },
  {
   "cell_type": "code",
   "execution_count": 4,
   "metadata": {},
   "outputs": [
    {
     "name": "stderr",
     "output_type": "stream",
     "text": [
      "17:32:39 [ERROR] Failed to detect the name of this notebook, you can set it manually with the WANDB_NOTEBOOK_NAME environment variable to enable code saving.\n"
     ]
    },
    {
     "name": "stderr",
     "output_type": "stream",
     "text": [
      "\u001b[34m\u001b[1mwandb\u001b[0m: Currently logged in as: \u001b[33mprofessornova\u001b[0m. Use \u001b[1m`wandb login --relogin`\u001b[0m to force relogin\n"
     ]
    },
    {
     "data": {
      "text/html": [
       "Tracking run with wandb version 0.16.0"
      ],
      "text/plain": [
       "<IPython.core.display.HTML object>"
      ]
     },
     "metadata": {},
     "output_type": "display_data"
    },
    {
     "data": {
      "text/html": [
       "Run data is saved locally in <code>c:\\Users\\Florian\\Documents\\GitHub\\ANN-Scratch\\wandb\\run-20231124_173240-utilpxfv</code>"
      ],
      "text/plain": [
       "<IPython.core.display.HTML object>"
      ]
     },
     "metadata": {},
     "output_type": "display_data"
    },
    {
     "data": {
      "text/html": [
       "Syncing run <strong><a href='https://wandb.ai/professornova/ANN_from_scratch/runs/utilpxfv' target=\"_blank\">chocolate-sound-19</a></strong> to <a href='https://wandb.ai/professornova/ANN_from_scratch' target=\"_blank\">Weights & Biases</a> (<a href='https://wandb.me/run' target=\"_blank\">docs</a>)<br/>"
      ],
      "text/plain": [
       "<IPython.core.display.HTML object>"
      ]
     },
     "metadata": {},
     "output_type": "display_data"
    },
    {
     "data": {
      "text/html": [
       " View project at <a href='https://wandb.ai/professornova/ANN_from_scratch' target=\"_blank\">https://wandb.ai/professornova/ANN_from_scratch</a>"
      ],
      "text/plain": [
       "<IPython.core.display.HTML object>"
      ]
     },
     "metadata": {},
     "output_type": "display_data"
    },
    {
     "data": {
      "text/html": [
       " View run at <a href='https://wandb.ai/professornova/ANN_from_scratch/runs/utilpxfv' target=\"_blank\">https://wandb.ai/professornova/ANN_from_scratch/runs/utilpxfv</a>"
      ],
      "text/plain": [
       "<IPython.core.display.HTML object>"
      ]
     },
     "metadata": {},
     "output_type": "display_data"
    },
    {
     "name": "stderr",
     "output_type": "stream",
     "text": [
      "17:32:42 [INFO] Starting training\n"
     ]
    },
    {
     "data": {
      "text/html": [
       "\n",
       "<style>\n",
       "    /* Turns off some styling */\n",
       "    progress {\n",
       "        /* gets rid of default border in Firefox and Opera. */\n",
       "        border: none;\n",
       "        /* Needs to be in here for Safari polyfill so background images work as expected. */\n",
       "        background-size: auto;\n",
       "    }\n",
       "    progress:not([value]), progress:not([value])::-webkit-progress-bar {\n",
       "        background: repeating-linear-gradient(45deg, #7e7e7e, #7e7e7e 10px, #5c5c5c 10px, #5c5c5c 20px);\n",
       "    }\n",
       "    .progress-bar-interrupted, .progress-bar-interrupted::-webkit-progress-bar {\n",
       "        background: #F44336;\n",
       "    }\n",
       "</style>\n"
      ],
      "text/plain": [
       "<IPython.core.display.HTML object>"
      ]
     },
     "metadata": {},
     "output_type": "display_data"
    },
    {
     "data": {
      "text/html": [
       "\n",
       "    <div>\n",
       "      <progress value='12' class='' max='50' style='width:300px; height:20px; vertical-align: middle;'></progress>\n",
       "      24.00% [12/50 11:26&lt;36:15 total progress]\n",
       "    </div>\n",
       "    \n",
       "Epoch 1 - Training Loss: 17.6565, Validation Loss: 12.1578, Accuracy: 42.22%<p>Epoch 2 - Training Loss: 10.3639, Validation Loss: 8.7121, Accuracy: 54.53%<p>Epoch 3 - Training Loss: 8.3080, Validation Loss: 7.1495, Accuracy: 59.34%<p>Epoch 4 - Training Loss: 7.4598, Validation Loss: 6.8255, Accuracy: 60.20%<p>Epoch 5 - Training Loss: 6.9190, Validation Loss: 6.4398, Accuracy: 60.74%<p>Epoch 6 - Training Loss: 6.3956, Validation Loss: 7.3252, Accuracy: 58.56%<p>Epoch 7 - Training Loss: 6.1066, Validation Loss: 6.2047, Accuracy: 61.96%<p>Epoch 8 - Training Loss: 5.8862, Validation Loss: 5.7133, Accuracy: 62.78%<p>Epoch 9 - Training Loss: 5.4154, Validation Loss: 5.4236, Accuracy: 64.14%<p>Epoch 10 - Training Loss: 5.3475, Validation Loss: 4.5716, Accuracy: 65.98%<p>Epoch 11 - Training Loss: 5.2578, Validation Loss: 5.1294, Accuracy: 61.94%<p>Epoch 12 - Training Loss: 4.9710, Validation Loss: 5.7111, Accuracy: 62.50%<p>\n",
       "\n",
       "    <div>\n",
       "      <progress value='419' class='' max='938' style='width:300px; height:20px; vertical-align: middle;'></progress>\n",
       "      44.67% [419/938 00:22&lt;00:27 epoch progress]\n",
       "    </div>\n",
       "    "
      ],
      "text/plain": [
       "<IPython.core.display.HTML object>"
      ]
     },
     "metadata": {},
     "output_type": "display_data"
    },
    {
     "data": {
      "image/png": "[encoded data removed]",
      "text/plain": [
       "<Figure size 600x400 with 1 Axes>"
      ]
     },
     "metadata": {},
     "output_type": "display_data"
    }
   ],
   "source": [
    "with wandb.init(project=\"ANN_from_scratch\", \n",
    "                group=\"train\",\n",
    "                config=config):\n",
    "    network.stochastic_gradient_descent(train_data=train_data,\n",
    "                                        test_data=test_data,\n",
    "                                        config=config)\n",
    "    network.save(\"mnist_network5.npy\")"
   ]
  }
 ],
 "metadata": {
  "kernelspec": {
   "display_name": "Python 3",
   "language": "python",
   "name": "python3"
  },
  "language_info": {
   "codemirror_mode": {
    "name": "ipython",
    "version": 3
   },
   "file_extension": ".py",
   "mimetype": "text/x-python",
   "name": "python",
   "nbconvert_exporter": "python",
   "pygments_lexer": "ipython3",
   "version": "3.11.5"
  }
 },
 "nbformat": 4,
 "nbformat_minor": 2
}
